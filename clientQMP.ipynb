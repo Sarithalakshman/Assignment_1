{
  "cells": [
    {
      "cell_type": "markdown",
      "metadata": {
        "id": "view-in-github",
        "colab_type": "text"
      },
      "source": [
        "<a href=\"https://colab.research.google.com/github/Sarithalakshman/Assignment_1/blob/main/clientQMP.ipynb\" target=\"_parent\"><img src=\"https://colab.research.google.com/assets/colab-badge.svg\" alt=\"Open In Colab\"/></a>"
      ]
    },
    {
      "cell_type": "code",
      "execution_count": null,
      "id": "9605c766",
      "metadata": {
        "id": "9605c766",
        "outputId": "c7157ec3-7853-432e-d8de-bc6891c48a00"
      },
      "outputs": [
        {
          "name": "stdout",
          "output_type": "stream",
          "text": [
            "Requirement already satisfied: mysql-connector-python in c:\\users\\sarit\\onedrive\\desktop\\client_project\\env\\lib\\site-packages (9.4.0)\n",
            "Note: you may need to restart the kernel to use updated packages.\n"
          ]
        }
      ],
      "source": [
        "pip install mysql-connector-python\n"
      ]
    },
    {
      "cell_type": "code",
      "execution_count": null,
      "id": "b051d554",
      "metadata": {
        "id": "b051d554"
      },
      "outputs": [],
      "source": [
        "import mysql.connector\n",
        "import hashlib\n",
        "from datetime import datetime\n",
        "\n",
        "# Database connection function\n",
        "def get_connection():\n",
        "    conn = mysql.connector.connect(\n",
        "        host=\"localhost\",\n",
        "        user=\"root\",\n",
        "        password=\"srihari\",\n",
        "        database=\"client_support\"\n",
        "    )\n",
        "    return conn\n"
      ]
    },
    {
      "cell_type": "code",
      "execution_count": null,
      "id": "da41a78e",
      "metadata": {
        "id": "da41a78e"
      },
      "outputs": [],
      "source": [
        "def register_user(username, password, role):\n",
        "    conn = get_connection()\n",
        "    cur = conn.cursor()\n",
        "\n",
        "    hashed_password = hashlib.sha256(password.encode()).hexdigest()\n",
        "    sql = \"INSERT INTO users (username, hashed_password, role) VALUES (%s, %s, %s)\"\n",
        "    cur.execute(sql, (username, hashed_password, role))\n",
        "\n",
        "    conn.commit()\n",
        "    conn.close()\n",
        "    print(\"✅ User registered successfully!\")\n"
      ]
    },
    {
      "cell_type": "code",
      "execution_count": null,
      "id": "4fc4b657",
      "metadata": {
        "id": "4fc4b657"
      },
      "outputs": [],
      "source": [
        "def login_user(username, password):\n",
        "    conn = get_connection()\n",
        "    cur = conn.cursor()\n",
        "\n",
        "    hashed_password = hashlib.sha256(password.encode()).hexdigest()\n",
        "    sql = \"SELECT role FROM users WHERE username=%s AND hashed_password=%s\"\n",
        "    cur.execute(sql, (username, hashed_password))\n",
        "    row = cur.fetchone()\n",
        "\n",
        "    conn.close()\n",
        "\n",
        "    if row:\n",
        "        print(f\" Login successfull Role: {row[0]}\")\n",
        "        return row[0]\n",
        "    else:\n",
        "        print(\" Invalid username or password.\")\n",
        "        return None\n"
      ]
    },
    {
      "cell_type": "code",
      "execution_count": null,
      "id": "6f6e0051",
      "metadata": {
        "id": "6f6e0051"
      },
      "outputs": [],
      "source": [
        "def submit_query(query_id, email, mobile, heading, description):\n",
        "    conn = get_connection()\n",
        "    cur = conn.cursor()\n",
        "\n",
        "    date_raised = datetime.now().strftime(\"%Y-%m-%d %H:%M:%S\")\n",
        "    status = \"Open\"\n",
        "    date_closed = None\n",
        "\n",
        "    sql = \"\"\"INSERT INTO client_queries\n",
        "            (query_id, client_email, client_mobile, query_heading, query_description, status, date_raised, date_closed)\n",
        "            VALUES (%s, %s, %s, %s, %s, %s, %s, %s)\"\"\"\n",
        "\n",
        "    cur.execute(sql, (query_id, email, mobile, heading, description, status, date_raised, date_closed))\n",
        "    conn.commit()\n",
        "    conn.close()\n",
        "    print(\" Query submitted successfully!\")\n"
      ]
    },
    {
      "cell_type": "code",
      "execution_count": null,
      "id": "bf5fa6b1",
      "metadata": {
        "id": "bf5fa6b1"
      },
      "outputs": [],
      "source": [
        "def view_queries(status=None):\n",
        "    conn = get_connection()\n",
        "    cur = conn.cursor()\n",
        "\n",
        "    if status:\n",
        "        cur.execute(\"SELECT * FROM client_queries WHERE status=%s\", (status,))\n",
        "    else:\n",
        "        cur.execute(\"SELECT * FROM client_queries\")\n",
        "\n",
        "    rows = cur.fetchall()\n",
        "    conn.close()\n",
        "\n",
        "    for row in rows:\n",
        "        print(row)\n"
      ]
    },
    {
      "cell_type": "code",
      "execution_count": null,
      "id": "d2b5abe6",
      "metadata": {
        "id": "d2b5abe6"
      },
      "outputs": [],
      "source": [
        "def close_query(query_id):\n",
        "    conn = get_connection()\n",
        "    cur = conn.cursor()\n",
        "\n",
        "    date_closed = datetime.now().strftime(\"%Y-%m-%d %H:%M:%S\")\n",
        "    sql = \"UPDATE client_queries SET status=%s, date_closed=%s WHERE query_id=%s AND status='Open'\"\n",
        "    cur.execute(sql, (\"Closed\", date_closed, query_id))\n",
        "\n",
        "    if cur.rowcount == 0:\n",
        "        print(\"Query not found or already closed.\")\n",
        "    else:\n",
        "        conn.commit()\n",
        "        print(\"Query closed successfully.\")\n",
        "\n",
        "    conn.close()\n"
      ]
    },
    {
      "cell_type": "code",
      "execution_count": null,
      "id": "31fcd5a6",
      "metadata": {
        "id": "31fcd5a6",
        "outputId": "10b0b778-b5e6-490c-a04f-c5a0d44122d3"
      },
      "outputs": [
        {
          "name": "stdout",
          "output_type": "stream",
          "text": [
            "✅ User registered successfully!\n",
            "✅ User registered successfully!\n",
            " Login successfull Role: Client\n",
            "✅ Query submitted successfully!\n",
            " Login successfull Role: Support\n",
            "📋 Open Queries:\n",
            "('Q003', 'gopal@gmail.com', '9876465778', 'bad networking', \"i can't open it.\", 'Open', datetime.datetime(2025, 9, 18, 10, 38, 42), None, None)\n",
            "('Q006', 'senthil@gmail.com', '944734240', 'Printer Not Working', 'The office printer is not responding.', 'Open', datetime.datetime(2025, 9, 21, 8, 38, 58), None, None)\n",
            "('Q007', 'sriharan@gmail.com', '9876543211', 'Computer is Slow', 'My computer is running very slowly.', 'Open', datetime.datetime(2025, 9, 22, 15, 52, 31), None, None)\n",
            "Query closed successfully.\n",
            "📋 After closing:\n",
            "('Q001', 'john@email.com', '9876543210', 'Login Issue', 'I cannot log in.', 'Closed', datetime.datetime(2025, 9, 15, 17, 17, 5), datetime.datetime(2025, 9, 15, 17, 17, 7), None)\n",
            "('Q003', 'gopal@gmail.com', '9876465778', 'bad networking', \"i can't open it.\", 'Open', datetime.datetime(2025, 9, 18, 10, 38, 42), None, None)\n",
            "('Q004', 'gopal@gmail.com', '9876465778', 'bad networking', \"i can't open it.\", 'Closed', datetime.datetime(2025, 9, 18, 10, 46, 46), datetime.datetime(2025, 9, 18, 10, 46, 46), None)\n",
            "('Q005', 'gopal@gmail.com', '9876465778', 'bad networking', \"i can't open it.\", 'Closed', datetime.datetime(2025, 9, 21, 8, 29, 29), datetime.datetime(2025, 9, 21, 8, 29, 29), None)\n",
            "('Q006', 'senthil@gmail.com', '944734240', 'Printer Not Working', 'The office printer is not responding.', 'Open', datetime.datetime(2025, 9, 21, 8, 38, 58), None, None)\n",
            "('Q007', 'sriharan@gmail.com', '9876543211', 'Computer is Slow', 'My computer is running very slowly.', 'Closed', datetime.datetime(2025, 9, 22, 15, 52, 31), datetime.datetime(2025, 9, 22, 15, 52, 31), None)\n"
          ]
        }
      ],
      "source": [
        "# Register some users\n",
        "register_user(\"sriharan\", \"password3\", \"Client\")\n",
        "register_user(\"support4\", \"admin3\", \"Support\")\n",
        "\n",
        "# Login as client\n",
        "role = login_user(\"sriharan\", \"password3\")\n",
        "\n",
        "# Client submits query\n",
        "if role == \"Client\":\n",
        "    submit_query(\"Q007\", \"sriharan@gmail.com\", \"9876543211\", \"Computer is Slow\", \"My computer is running very slowly.\")\n",
        "\n",
        "# Login as support\n",
        "role = login_user(\"support4\", \"admin3\")\n",
        "\n",
        "# Support views and closes query\n",
        "if role == \"Support\":\n",
        "    print(\"📋 Open Queries:\")\n",
        "    view_queries(\"Open\")\n",
        "\n",
        "    close_query(\"Q007\")\n",
        "    print(\"📋 After closing:\")\n",
        "    view_queries()"
      ]
    },
    {
      "cell_type": "code",
      "execution_count": null,
      "id": "f8775192",
      "metadata": {
        "id": "f8775192"
      },
      "outputs": [],
      "source": []
    }
  ],
  "metadata": {
    "kernelspec": {
      "display_name": "env",
      "language": "python",
      "name": "python3"
    },
    "language_info": {
      "codemirror_mode": {
        "name": "ipython",
        "version": 3
      },
      "file_extension": ".py",
      "mimetype": "text/x-python",
      "name": "python",
      "nbconvert_exporter": "python",
      "pygments_lexer": "ipython3",
      "version": "3.13.7"
    },
    "colab": {
      "provenance": [],
      "include_colab_link": true
    }
  },
  "nbformat": 4,
  "nbformat_minor": 5
}